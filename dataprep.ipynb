{
 "cells": [
  {
   "cell_type": "code",
   "execution_count": 22,
   "metadata": {},
   "outputs": [
    {
     "data": {
      "text/plain": [
       "356"
      ]
     },
     "execution_count": 22,
     "metadata": {},
     "output_type": "execute_result"
    }
   ],
   "source": [
    "# Let's adjust the script to output the dialogues directly in the JSON-like format inside a CSV, as requested.\n",
    "\n",
    "def correct_spaces_and_remove_special_chars(text):\n",
    "    # Replace multiple spaces with a single space\n",
    "    print\n",
    "    corrected_text = re.sub(r'\\s+', ' ', text)\n",
    "    corrected_text = re.sub(u'\\uFFFD', '', corrected_text)\n",
    "    return corrected_text\n",
    "\n",
    "def write_jules_dialogues_as_json(file_content):\n",
    "    # Pattern to match lines of dialogue directly, ignoring stage directions\n",
    "    dialogue_pattern = re.compile(r'^\\s*(?P<speaker>[A-Z ]+)\\s*\\n(?P<dialogue>(?:.+\\n)+?)(?=\\n\\s*[A-Z ]+\\s*\\n)', re.MULTILINE)\n",
    "    \n",
    "    # Reading the file content\n",
    "    dialogues = dialogue_pattern.findall(file_content)\n",
    "    \n",
    "    # Filtering for JULES and the previous speaker\n",
    "    jules_dialogues = []\n",
    "    previous_speaker = None\n",
    "    previous_dialogue = None\n",
    "\n",
    "    for speaker, dialogue in dialogues:\n",
    "        dialogue = dialogue.strip().replace('\\n', ' ')  # Clean and compress dialogue\n",
    "        dialogue = correct_spaces(dialogue)\n",
    "        if speaker == \"JULES\" or speaker == \"VINCENT\":\n",
    "            if previous_speaker and previous_dialogue:  # Ensure there is a previous dialogue\n",
    "                jules_dialogues.append({\"user\": previous_dialogue, \"assistant\": dialogue})\n",
    "        previous_speaker = speaker\n",
    "        previous_dialogue = dialogue\n",
    "\n",
    "    # Now write to a CSV file with JSON-like format\n",
    "    with open('Jules_Dialogues_JSON.csv', 'w', newline='', encoding='utf-8') as csvfile:\n",
    "        for dialogue in jules_dialogues:\n",
    "            user_entry = f'{{\"role\": \"user\", \"content\": \"{dialogue[\"user\"]}\"}}'\n",
    "            assistant_entry = f'{{\"role\": \"assistant\", \"content\": \"{dialogue[\"assistant\"]}\"}}'\n",
    "            csvfile.write(user_entry + ',\\n' + assistant_entry + ',\\n')\n",
    "\n",
    "    return len(jules_dialogues)\n",
    "\n",
    "# Read the uploaded file content\n",
    "with open(file_path, 'r', encoding='utf-8') as file:\n",
    "    file_content = file.read()\n",
    "\n",
    "# Process the file and write dialogues to a CSV in the specific format\n",
    "num_dialogues = write_jules_dialogues_as_json(file_content)\n",
    "num_dialogues  # Return the number of dialogue entries processed for verification\n"
   ]
  },
  {
   "cell_type": "code",
   "execution_count": null,
   "metadata": {},
   "outputs": [],
   "source": []
  }
 ],
 "metadata": {
  "kernelspec": {
   "display_name": "iris",
   "language": "python",
   "name": "python3"
  },
  "language_info": {
   "codemirror_mode": {
    "name": "ipython",
    "version": 3
   },
   "file_extension": ".py",
   "mimetype": "text/x-python",
   "name": "python",
   "nbconvert_exporter": "python",
   "pygments_lexer": "ipython3",
   "version": "3.12.2"
  }
 },
 "nbformat": 4,
 "nbformat_minor": 2
}
