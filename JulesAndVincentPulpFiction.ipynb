{
 "cells": [
  {
   "cell_type": "code",
   "execution_count": 1,
   "id": "df1e2caf-4159-4cb9-95d2-60c7cf541ec9",
   "metadata": {},
   "outputs": [],
   "source": [
    "from transformers import AutoModelForCausalLM, AutoTokenizer\n",
    "import torch\n",
    "import csv\n",
    "import json"
   ]
  },
  {
   "cell_type": "code",
   "execution_count": null,
   "id": "1088ab69-6a87-419f-a3f6-0533049fd282",
   "metadata": {
    "scrolled": true
   },
   "outputs": [],
   "source": [
    "torch.cuda.empty_cache()  # Clear unus§ed memory\n",
    "\n",
    "checkpoint = \"HuggingFaceH4/zephyr-7b-beta\"\n",
    "tokenizer = AutoTokenizer.from_pretrained(checkpoint)\n",
    "\n",
    "device = torch.device(\"cuda\" if torch.cuda.is_available() else \"cpu\")\n",
    "\n",
    "model = AutoModelForCausalLM.from_pretrained(checkpoint).to(device)  # You may want to use bfloat16 and/or move to GPU here\n",
    "model.to(\"cuda\")\n",
    "\n",
    "\n"
   ]
  },
  {
   "cell_type": "code",
   "execution_count": null,
   "id": "6a60a288-cb59-4f4a-ab41-86018e6fffc6",
   "metadata": {},
   "outputs": [],
   "source": [
    "\n",
    "# Function to load JSONs from a CSV file\n",
    "def load_jsons_from_csv(filename):\n",
    "    data = []  # This list will store all the JSON objects\n",
    "    errors = []\n",
    "    with open(filename, 'r', encoding='utf-8') as csvfile:\n",
    "        reader = csv.reader(csvfile)\n",
    "        for row in reader:\n",
    "            if row:  # Ensure the row is not empty\n",
    "                # Parse JSON from the first column in each row (assuming each row is a JSON string)\n",
    "                try:\n",
    "                    json_str = ','.join(part for part in row if part.strip())\n",
    "                    # print(\"Json string\")\n",
    "                    # print(json_str)\n",
    "                    # print(type(json_str))\n",
    "                    json_data = json.loads(json_str)\n",
    "                    # print(\"Json data\")\n",
    "                    # print(json_data)\n",
    "                    data_list = [json_data]  # Place the dictionary in a list as per your requirement\n",
    "                    # print(\"Data list\")\n",
    "                    # print(data_list)\n",
    "                    data.append(json_data)\n",
    "                except json.JSONDecodeError:\n",
    "                    errors.append(row)\n",
    "                    pass\n",
    "    print(\"Number of error rows: \" + str(len(errors))) \n",
    "    return data\n",
    "\n",
    "# Example usage\n",
    "filename = 'Jules_Dialogues_JSON.csv'\n",
    "loaded_jsons = load_jsons_from_csv(filename)\n",
    "# print(loaded_jsons)\n"
   ]
  },
  {
   "cell_type": "code",
   "execution_count": null,
   "id": "03253c45-d771-4a58-9a07-9daeb83a3fc1",
   "metadata": {},
   "outputs": [],
   "source": [
    "print(len(loaded_jsons))\n",
    "print(len(error))\n",
    "loaded_jsons"
   ]
  },
  {
   "cell_type": "code",
   "execution_count": null,
   "id": "c521aae2-c72e-43c5-9336-75fbdb298961",
   "metadata": {},
   "outputs": [],
   "source": [
    "messages = [\n",
    "    {\n",
    "        \"role\": \"system\",\n",
    "        \"content\": \"You are a very angry comedian and you always get comedically angry when you speak\",\n",
    "    },\n",
    "    {\"role\": \"user\", \"content\": \"How do I make a cup of tea?\"},\n",
    " ]"
   ]
  },
  {
   "cell_type": "code",
   "execution_count": null,
   "id": "d0e12ba6-ae4a-40b2-9fff-88d1f005e2c6",
   "metadata": {},
   "outputs": [],
   "source": [
    "tokenized_chat = tokenizer.apply_chat_template(loaded_jsons, tokenize=True, add_generation_prompt=True, return_tensors=\"pt\")\n",
    "# print(tokenized_chat)\n",
    "\n",
    "tokenized_chat = tokenized_chat.to(device)\n",
    "# # Print the decoded version of the tokenized chat (decoding is done on CPU)\n",
    "# print(tokenizer.decode(tokenized_chat['input_ids'][0].cpu()))\n",
    "\n"
   ]
  },
  {
   "cell_type": "code",
   "execution_count": null,
   "id": "0a3bd4a5-8033-4b22-90bb-a38c146da049",
   "metadata": {},
   "outputs": [],
   "source": [
    "# Generate output using the model, ensuring inputs are on the GPU\n",
    "outputs = model.generate(tokenized_chat, max_new_tokens=1024, pad_token_id=2)\n",
    "print(tokenizer.decode(outputs[0].cpu(), skip_special_tokens=True))\n"
   ]
  },
  {
   "cell_type": "code",
   "execution_count": null,
   "id": "b8ab77cb-1a33-42e7-8096-cd1326aaab8c",
   "metadata": {},
   "outputs": [],
   "source": [
    "# from transformers import pipeline\n",
    "\n",
    "# pipe = pipeline(\"text-generation\", \"HuggingFaceH4/zephyr-7b-beta\")\n",
    "# messages = [\n",
    "#     {\n",
    "#         \"role\": \"system\",\n",
    "#         \"content\": \"You are a friendly chatbot who always responds in the style of a pirate\",\n",
    "#     },\n",
    "#     {\"role\": \"user\", \"content\": \"How many helicopters can a human eat in one sitting?\"},\n",
    "# ]\n",
    "# print(pipe(messages, max_new_tokens=128)[0]['generated_text'][-1])  # Print the assistant's response"
   ]
  },
  {
   "cell_type": "code",
   "execution_count": null,
   "id": "dc0de5f0-5872-4b52-b330-5ff87063af2c",
   "metadata": {},
   "outputs": [],
   "source": []
  }
 ],
 "metadata": {
  "kernelspec": {
   "display_name": "Python 3 (ipykernel)",
   "language": "python",
   "name": "python3"
  },
  "language_info": {
   "codemirror_mode": {
    "name": "ipython",
    "version": 3
   },
   "file_extension": ".py",
   "mimetype": "text/x-python",
   "name": "python",
   "nbconvert_exporter": "python",
   "pygments_lexer": "ipython3",
   "version": "3.10.12"
  }
 },
 "nbformat": 4,
 "nbformat_minor": 5
}
